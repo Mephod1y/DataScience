{
  "nbformat": 4,
  "nbformat_minor": 0,
  "metadata": {
    "kernelspec": {
      "display_name": "Python 3",
      "language": "python",
      "name": "python3"
    },
    "language_info": {
      "codemirror_mode": {
        "name": "ipython",
        "version": 3
      },
      "file_extension": ".py",
      "mimetype": "text/x-python",
      "name": "python",
      "nbconvert_exporter": "python",
      "pygments_lexer": "ipython3",
      "version": "3.8.0"
    },
    "colab": {
      "provenance": [],
      "include_colab_link": true
    },
    "accelerator": "GPU"
  },
  "cells": [
    {
      "cell_type": "markdown",
      "metadata": {
        "id": "view-in-github",
        "colab_type": "text"
      },
      "source": [
        "<a href=\"https://colab.research.google.com/github/Mephod1y/DataScience/blob/main/Hw7.ipynb\" target=\"_parent\"><img src=\"https://colab.research.google.com/assets/colab-badge.svg\" alt=\"Open In Colab\"/></a>"
      ]
    },
    {
      "cell_type": "code",
      "source": [
        "pip install surprise"
      ],
      "metadata": {
        "id": "Hg3EB3GuyFhA"
      },
      "execution_count": null,
      "outputs": []
    },
    {
      "cell_type": "code",
      "source": [
        "import pandas as pd\n",
        "import numpy as np\n",
        "from surprise import SVD, SVDpp, NMF\n",
        "from surprise import Dataset\n",
        "from surprise.model_selection import cross_validate"
      ],
      "metadata": {
        "id": "2Tb49lUtdriI"
      },
      "execution_count": 4,
      "outputs": []
    },
    {
      "cell_type": "code",
      "source": [
        "data = Dataset.load_builtin('ml-100k')"
      ],
      "metadata": {
        "id": "4LP3TKvvd2hP",
        "outputId": "59433348-0a0e-4af4-8805-4e9d9e11b004",
        "colab": {
          "base_uri": "https://localhost:8080/"
        }
      },
      "execution_count": 6,
      "outputs": [
        {
          "output_type": "stream",
          "name": "stdout",
          "text": [
            "Dataset ml-100k could not be found. Do you want to download it? [Y/n] y\n",
            "Trying to download dataset from https://files.grouplens.org/datasets/movielens/ml-100k.zip...\n",
            "Done! Dataset ml-100k has been saved to /root/.surprise_data/ml-100k\n"
          ]
        }
      ]
    },
    {
      "cell_type": "code",
      "source": [
        "algorithms = [SVD(), SVDpp(), NMF()]\n",
        "results = []\n",
        "for algorithm in algorithms:\n",
        "  result = cross_validate(algorithm, data, measures=['RMSE', 'MAE'], cv=5, verbose=True)\n",
        "  results.append((algorithm, result))\n",
        "  print(result)"
      ],
      "metadata": {
        "id": "VZFZCmYld3Y4",
        "outputId": "463d0296-c9de-4053-bf98-62cf2289c439",
        "colab": {
          "base_uri": "https://localhost:8080/"
        }
      },
      "execution_count": 7,
      "outputs": [
        {
          "output_type": "stream",
          "name": "stdout",
          "text": [
            "Evaluating RMSE, MAE of algorithm SVD on 5 split(s).\n",
            "\n",
            "                  Fold 1  Fold 2  Fold 3  Fold 4  Fold 5  Mean    Std     \n",
            "RMSE (testset)    0.9360  0.9369  0.9385  0.9362  0.9326  0.9360  0.0019  \n",
            "MAE (testset)     0.7391  0.7356  0.7408  0.7361  0.7352  0.7374  0.0022  \n",
            "Fit time          0.96    1.00    1.06    0.98    1.01    1.00    0.04    \n",
            "Test time         0.17    0.17    0.11    0.23    0.11    0.16    0.04    \n",
            "{'test_rmse': array([0.93595075, 0.9369101 , 0.93845661, 0.93623387, 0.93261003]), 'test_mae': array([0.73907501, 0.73559678, 0.74080443, 0.73610896, 0.73523576]), 'fit_time': (0.9551172256469727, 1.0011544227600098, 1.06355881690979, 0.9802589416503906, 1.0100209712982178), 'test_time': (0.1679058074951172, 0.17468953132629395, 0.10620999336242676, 0.2257096767425537, 0.10815715789794922)}\n",
            "Evaluating RMSE, MAE of algorithm SVDpp on 5 split(s).\n",
            "\n",
            "                  Fold 1  Fold 2  Fold 3  Fold 4  Fold 5  Mean    Std     \n",
            "RMSE (testset)    0.9191  0.9159  0.9207  0.9145  0.9257  0.9192  0.0039  \n",
            "MAE (testset)     0.7227  0.7199  0.7219  0.7157  0.7270  0.7215  0.0037  \n",
            "Fit time          22.57   22.13   21.77   23.10   22.29   22.37   0.45    \n",
            "Test time         3.68    4.26    4.47    3.45    3.58    3.89    0.40    \n",
            "{'test_rmse': array([0.91911154, 0.91588144, 0.92069896, 0.91451715, 0.9257116 ]), 'test_mae': array([0.72272634, 0.71993709, 0.72190733, 0.71574778, 0.7270454 ]), 'fit_time': (22.56501293182373, 22.129220008850098, 21.77160620689392, 23.099570989608765, 22.287713527679443), 'test_time': (3.675166368484497, 4.259532690048218, 4.468485116958618, 3.4506311416625977, 3.5847182273864746)}\n",
            "Evaluating RMSE, MAE of algorithm NMF on 5 split(s).\n",
            "\n",
            "                  Fold 1  Fold 2  Fold 3  Fold 4  Fold 5  Mean    Std     \n",
            "RMSE (testset)    0.9725  0.9600  0.9644  0.9652  0.9578  0.9640  0.0051  \n",
            "MAE (testset)     0.7641  0.7538  0.7605  0.7576  0.7526  0.7577  0.0042  \n",
            "Fit time          1.15    1.15    1.16    1.75    3.19    1.68    0.79    \n",
            "Test time         0.09    0.25    0.08    0.26    0.09    0.16    0.08    \n",
            "{'test_rmse': array([0.97253772, 0.96004521, 0.96443423, 0.96520428, 0.95784187]), 'test_mae': array([0.76405473, 0.75383421, 0.76052462, 0.7576387 , 0.75262053]), 'fit_time': (1.146806001663208, 1.1507608890533447, 1.1581425666809082, 1.7466275691986084, 3.188825845718384), 'test_time': (0.09322309494018555, 0.24599289894104004, 0.0834507942199707, 0.26238155364990234, 0.09124898910522461)}\n"
          ]
        }
      ]
    },
    {
      "cell_type": "code",
      "source": [
        "for algorithm, result in results:\n",
        "    print(type(algorithm).__name__)\n",
        "    print('test_rmse:', np.mean(result['test_rmse']).round(5))\n",
        "    print('test_mae', np.mean(result['test_mae']).round(5))\n",
        "    print('fit_time:', np.mean(result['fit_time']).round(5))\n",
        "    print('test_time:', np.mean(result['test_time']).round(5))\n"
      ],
      "metadata": {
        "id": "dYYnkjJGebrA",
        "outputId": "149971e5-937d-414a-bb2c-e8975a25c144",
        "colab": {
          "base_uri": "https://localhost:8080/"
        }
      },
      "execution_count": 10,
      "outputs": [
        {
          "output_type": "stream",
          "name": "stdout",
          "text": [
            "SVD\n",
            "test_rmse: 0.93603\n",
            "test_mae 0.73736\n",
            "fit_time: 1.00202\n",
            "test_time: 0.15653\n",
            "SVDpp\n",
            "test_rmse: 0.91918\n",
            "test_mae 0.72147\n",
            "fit_time: 22.37062\n",
            "test_time: 3.88771\n",
            "NMF\n",
            "test_rmse: 0.96401\n",
            "test_mae 0.75773\n",
            "fit_time: 1.67823\n",
            "test_time: 0.15526\n"
          ]
        }
      ]
    },
    {
      "cell_type": "markdown",
      "source": [
        "SVD - має середню точність 0.737, але дуже швидке обчислення. Доцільно використовувати коли датасети дуже великі і точність не має принципового значення.\n",
        "\n",
        "SVD++ - має найкращу точність 0.721, але дуже повільне обчислення в порівнянні з SVD. Варто використовувати коли найкраща точність має значення.\n",
        "\n",
        "NMF - має найгіршу точність з перевірених алгоритмів, але швидкість навчання трішки майже як в SVD.\n",
        "\n",
        "Краще використовувати SVD алгоритм мінімальні затрати ресурсів з приємлемим результатом, але коли результат повинен бути максимально точний краще використовувати SVD++."
      ],
      "metadata": {
        "id": "qdggKn5P0wbi"
      }
    }
  ]
}