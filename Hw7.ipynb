{
  "nbformat": 4,
  "nbformat_minor": 0,
  "metadata": {
    "colab": {
      "provenance": [],
      "authorship_tag": "ABX9TyMxt4AydxC9Dm3Fj3x/X6OW",
      "include_colab_link": true
    },
    "kernelspec": {
      "name": "python3",
      "display_name": "Python 3"
    },
    "language_info": {
      "name": "python"
    }
  },
  "cells": [
    {
      "cell_type": "markdown",
      "metadata": {
        "id": "view-in-github",
        "colab_type": "text"
      },
      "source": [
        "<a href=\"https://colab.research.google.com/github/Mephod1y/DataScience/blob/main/Hw7.ipynb\" target=\"_parent\"><img src=\"https://colab.research.google.com/assets/colab-badge.svg\" alt=\"Open In Colab\"/></a>"
      ]
    },
    {
      "cell_type": "code",
      "source": [
        "pip install surprise"
      ],
      "metadata": {
        "colab": {
          "base_uri": "https://localhost:8080/"
        },
        "id": "5PJgvxaBR9sJ",
        "outputId": "a4c34e37-c3b4-496b-926d-1034ef8bae76"
      },
      "execution_count": 2,
      "outputs": [
        {
          "output_type": "stream",
          "name": "stdout",
          "text": [
            "Collecting surprise\n",
            "  Downloading surprise-0.1-py2.py3-none-any.whl (1.8 kB)\n",
            "Collecting scikit-surprise (from surprise)\n",
            "  Downloading scikit-surprise-1.1.3.tar.gz (771 kB)\n",
            "\u001b[?25l     \u001b[90m━━━━━━━━━━━━━━━━━━━━━━━━━━━━━━━━━━━━━━━━\u001b[0m \u001b[32m0.0/772.0 kB\u001b[0m \u001b[31m?\u001b[0m eta \u001b[36m-:--:--\u001b[0m\r\u001b[2K     \u001b[91m━━━━━━\u001b[0m\u001b[90m╺\u001b[0m\u001b[90m━━━━━━━━━━━━━━━━━━━━━━━━━━━━━━━━\u001b[0m \u001b[32m122.9/772.0 kB\u001b[0m \u001b[31m3.8 MB/s\u001b[0m eta \u001b[36m0:00:01\u001b[0m\r\u001b[2K     \u001b[91m━━━━━━━━━━━━━━━━━━━━━━━━━━━━━━━━━━━━━\u001b[0m\u001b[91m╸\u001b[0m \u001b[32m768.0/772.0 kB\u001b[0m \u001b[31m12.8 MB/s\u001b[0m eta \u001b[36m0:00:01\u001b[0m\r\u001b[2K     \u001b[90m━━━━━━━━━━━━━━━━━━━━━━━━━━━━━━━━━━━━━━\u001b[0m \u001b[32m772.0/772.0 kB\u001b[0m \u001b[31m11.0 MB/s\u001b[0m eta \u001b[36m0:00:00\u001b[0m\n",
            "\u001b[?25h  Preparing metadata (setup.py) ... \u001b[?25l\u001b[?25hdone\n",
            "Requirement already satisfied: joblib>=1.0.0 in /usr/local/lib/python3.10/dist-packages (from scikit-surprise->surprise) (1.3.2)\n",
            "Requirement already satisfied: numpy>=1.17.3 in /usr/local/lib/python3.10/dist-packages (from scikit-surprise->surprise) (1.23.5)\n",
            "Requirement already satisfied: scipy>=1.3.2 in /usr/local/lib/python3.10/dist-packages (from scikit-surprise->surprise) (1.11.2)\n",
            "Building wheels for collected packages: scikit-surprise\n",
            "  Building wheel for scikit-surprise (setup.py) ... \u001b[?25l\u001b[?25hdone\n",
            "  Created wheel for scikit-surprise: filename=scikit_surprise-1.1.3-cp310-cp310-linux_x86_64.whl size=3156218 sha256=0c5562f31c4763c266b335dc344298bb43da3d345e6088dae64f385f09baf31b\n",
            "  Stored in directory: /root/.cache/pip/wheels/a5/ca/a8/4e28def53797fdc4363ca4af740db15a9c2f1595ebc51fb445\n",
            "Successfully built scikit-surprise\n",
            "Installing collected packages: scikit-surprise, surprise\n",
            "Successfully installed scikit-surprise-1.1.3 surprise-0.1\n"
          ]
        }
      ]
    },
    {
      "cell_type": "code",
      "execution_count": 18,
      "metadata": {
        "id": "YvCkzdfJQP0B"
      },
      "outputs": [],
      "source": [
        "import pandas as pd\n",
        "import numpy as np\n",
        "from surprise import SVD, SVDpp, NMF\n",
        "from surprise import Dataset\n",
        "from surprise.model_selection import cross_validate"
      ]
    },
    {
      "cell_type": "code",
      "source": [
        "data = Dataset.load_builtin('ml-100k')"
      ],
      "metadata": {
        "colab": {
          "base_uri": "https://localhost:8080/"
        },
        "id": "nfzw8zITRzQS",
        "outputId": "ac77b886-9e4f-453d-d8c1-be9c8e895abe"
      },
      "execution_count": 4,
      "outputs": [
        {
          "output_type": "stream",
          "name": "stdout",
          "text": [
            "Dataset ml-100k could not be found. Do you want to download it? [Y/n] y\n",
            "Trying to download dataset from https://files.grouplens.org/datasets/movielens/ml-100k.zip...\n",
            "Done! Dataset ml-100k has been saved to /root/.surprise_data/ml-100k\n"
          ]
        }
      ]
    },
    {
      "cell_type": "code",
      "source": [
        "algorithms = [SVD(), SVDpp(), NMF()]\n",
        "\n",
        "results = []\n",
        "for algorithm in algorithms:\n",
        "  print(f'\\nalgorithm: {type(algorithm).__name__}')\n",
        "  result = cross_validate(algorithm, data, measures=['RMSE', 'MAE'], cv=5, verbose=True)\n",
        "  results.append((algorithm, result))\n",
        "  print(result)"
      ],
      "metadata": {
        "colab": {
          "base_uri": "https://localhost:8080/"
        },
        "id": "CrKB86vLS7lr",
        "outputId": "9a554af0-492f-4895-8ee5-ce489a9437a8"
      },
      "execution_count": 17,
      "outputs": [
        {
          "output_type": "stream",
          "name": "stdout",
          "text": [
            "\n",
            "algorithm: SVD\n",
            "Evaluating RMSE, MAE of algorithm SVD on 5 split(s).\n",
            "\n",
            "                  Fold 1  Fold 2  Fold 3  Fold 4  Fold 5  Mean    Std     \n",
            "RMSE (testset)    0.9434  0.9259  0.9353  0.9454  0.9299  0.9360  0.0075  \n",
            "MAE (testset)     0.7426  0.7293  0.7365  0.7461  0.7340  0.7377  0.0060  \n",
            "Fit time          1.36    2.26    1.67    1.70    1.53    1.70    0.31    \n",
            "Test time         0.17    0.14    0.16    0.18    0.35    0.20    0.08    \n",
            "{'test_rmse': array([0.94343878, 0.92590918, 0.9353395 , 0.94540689, 0.92989652]), 'test_mae': array([0.74258157, 0.72931499, 0.73653437, 0.7461257 , 0.73397215]), 'fit_time': (1.35551118850708, 2.2639706134796143, 1.667816400527954, 1.6954538822174072, 1.525069236755371), 'test_time': (0.1730208396911621, 0.1359715461730957, 0.1571521759033203, 0.17853212356567383, 0.35337257385253906)}\n",
            "\n",
            "algorithm: SVDpp\n",
            "Evaluating RMSE, MAE of algorithm SVDpp on 5 split(s).\n",
            "\n",
            "                  Fold 1  Fold 2  Fold 3  Fold 4  Fold 5  Mean    Std     \n",
            "RMSE (testset)    0.9224  0.9165  0.9121  0.9242  0.9269  0.9204  0.0054  \n",
            "MAE (testset)     0.7235  0.7168  0.7132  0.7249  0.7277  0.7212  0.0054  \n",
            "Fit time          27.01   26.71   26.96   26.85   27.56   27.02   0.29    \n",
            "Test time         5.64    5.05    5.59    4.68    4.61    5.12    0.43    \n",
            "{'test_rmse': array([0.92241468, 0.91653201, 0.91210154, 0.92421199, 0.92692279]), 'test_mae': array([0.7234763 , 0.71682283, 0.71316627, 0.7248837 , 0.72773046]), 'fit_time': (27.01018238067627, 26.710111141204834, 26.95732021331787, 26.848432302474976, 27.563049793243408), 'test_time': (5.637136936187744, 5.049752473831177, 5.592839002609253, 4.683657169342041, 4.612274885177612)}\n",
            "\n",
            "algorithm: NMF\n",
            "Evaluating RMSE, MAE of algorithm NMF on 5 split(s).\n",
            "\n",
            "                  Fold 1  Fold 2  Fold 3  Fold 4  Fold 5  Mean    Std     \n",
            "RMSE (testset)    0.9698  0.9522  0.9650  0.9612  0.9618  0.9620  0.0058  \n",
            "MAE (testset)     0.7614  0.7520  0.7586  0.7570  0.7550  0.7568  0.0032  \n",
            "Fit time          2.33    2.59    2.84    2.48    2.53    2.55    0.16    \n",
            "Test time         0.10    0.21    0.13    0.34    0.11    0.18    0.09    \n",
            "{'test_rmse': array([0.96983574, 0.95218687, 0.96498529, 0.96123151, 0.96177011]), 'test_mae': array([0.76138958, 0.75204883, 0.75857223, 0.75701959, 0.75504541]), 'fit_time': (2.334895610809326, 2.591399669647217, 2.8358242511749268, 2.47957706451416, 2.5325119495391846), 'test_time': (0.10147690773010254, 0.21114778518676758, 0.13190984725952148, 0.34493398666381836, 0.10573101043701172)}\n"
          ]
        }
      ]
    },
    {
      "cell_type": "code",
      "source": [
        "for algorithm, result in results:\n",
        "    print(f'\\nalgorithm: {type(algorithm).__name__}:')\n",
        "    print('test_rmse:', np.mean(result['test_rmse']).round(5))\n",
        "    print('test_mae:',np.mean(result['test_mae']).round(5))\n",
        "    print('fit_time:', np.mean(result['fit_time']).round(5))\n",
        "    print('test_time:', np.mean(result['test_time']).round(5))\n"
      ],
      "metadata": {
        "colab": {
          "base_uri": "https://localhost:8080/"
        },
        "id": "SiO9ImvtaAKK",
        "outputId": "5ec94076-c8fd-412b-de97-1f4e2e394dd4"
      },
      "execution_count": 79,
      "outputs": [
        {
          "output_type": "stream",
          "name": "stdout",
          "text": [
            "\n",
            "algorithm: SVD:\n",
            "test_rmse: 0.936\n",
            "test_mae: 0.73771\n",
            "fit_time: 1.70156\n",
            "test_time: 0.19961\n",
            "\n",
            "algorithm: SVDpp:\n",
            "test_rmse: 0.92044\n",
            "test_mae: 0.72122\n",
            "fit_time: 27.01782\n",
            "test_time: 5.11513\n",
            "\n",
            "algorithm: NMF:\n",
            "test_rmse: 0.962\n",
            "test_mae: 0.75682\n",
            "fit_time: 2.55484\n",
            "test_time: 0.17904\n"
          ]
        }
      ]
    },
    {
      "cell_type": "markdown",
      "source": [
        "Висновок: найшвидша серед 3х обраних моделей виявилась SVD, але з ненайкращою точністю. Проте SVDрр більш точна, но набагато повільніша. Отже для обчислення великих масивів даних більш доцільно буде використовувати SVD-модель, але якщо важлива саме точність, то краще SVDрр"
      ],
      "metadata": {
        "id": "2dgEoII2hZyC"
      }
    }
  ]
}