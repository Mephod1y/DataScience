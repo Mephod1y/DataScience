{
  "nbformat": 4,
  "nbformat_minor": 0,
  "metadata": {
    "colab": {
      "provenance": [],
      "authorship_tag": "ABX9TyNS767eHWeNf9xUDnQw9VPD",
      "include_colab_link": true
    },
    "kernelspec": {
      "name": "python3",
      "display_name": "Python 3"
    },
    "language_info": {
      "name": "python"
    }
  },
  "cells": [
    {
      "cell_type": "markdown",
      "metadata": {
        "id": "view-in-github",
        "colab_type": "text"
      },
      "source": [
        "<a href=\"https://colab.research.google.com/github/Mephod1y/DataScience/blob/main/HW5/Hw5.ipynb\" target=\"_parent\"><img src=\"https://colab.research.google.com/assets/colab-badge.svg\" alt=\"Open In Colab\"/></a>"
      ]
    },
    {
      "cell_type": "code",
      "execution_count": null,
      "metadata": {
        "id": "sEN4DarIaOdI"
      },
      "outputs": [],
      "source": [
        "import numpy as np\n",
        "import os\n",
        "import pandas as pd\n",
        "from sklearn.svm import SVC\n",
        "from sklearn.ensemble import RandomForestClassifier\n",
        "from sklearn.metrics import accuracy_score\n",
        "from sklearn.model_selection import train_test_split"
      ]
    },
    {
      "cell_type": "code",
      "source": [
        "data_folder = 'data'\n",
        "\n",
        "all_data = pd.DataFrame()\n",
        "\n",
        "for activity_folder in os.listdir(data_folder):\n",
        "    activity_path = os.path.join(data_folder, activity_folder)\n",
        "    if not os.path.isdir(activity_path):\n",
        "        continue\n",
        "\n",
        "    for file_name in os.listdir(activity_path):\n",
        "        file_path = os.path.join(activity_path, file_name)\n",
        "        if not file_name.endswith('.csv'):\n",
        "            continue\n",
        "\n",
        "        df = pd.read_csv(file_path)\n",
        "\n",
        "        df['activity'] = activity_folder\n",
        "\n",
        "        all_data = pd.concat([all_data, df], ignore_index=True)\n",
        "\n",
        "all_data = all_data.sample(frac=1).reset_index(drop=True)\n",
        "\n",
        "X = all_data.drop('activity', axis=1)\n",
        "y = all_data['activity']"
      ],
      "metadata": {
        "id": "tJynVrVEbxH_"
      },
      "execution_count": null,
      "outputs": []
    }
  ]
}