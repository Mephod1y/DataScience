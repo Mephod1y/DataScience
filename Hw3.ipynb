{
  "nbformat": 4,
  "nbformat_minor": 0,
  "metadata": {
    "colab": {
      "provenance": [],
      "authorship_tag": "ABX9TyOvDL+vjjSQ/C28Wkpv2olw",
      "include_colab_link": true
    },
    "kernelspec": {
      "name": "python3",
      "display_name": "Python 3"
    },
    "language_info": {
      "name": "python"
    }
  },
  "cells": [
    {
      "cell_type": "markdown",
      "metadata": {
        "id": "view-in-github",
        "colab_type": "text"
      },
      "source": [
        "<a href=\"https://colab.research.google.com/github/Mephod1y/DataScience/blob/main/Hw3.ipynb\" target=\"_parent\"><img src=\"https://colab.research.google.com/assets/colab-badge.svg\" alt=\"Open In Colab\"/></a>"
      ]
    },
    {
      "cell_type": "code",
      "execution_count": 53,
      "metadata": {
        "id": "RFHtx6oZTC5C"
      },
      "outputs": [],
      "source": [
        "import pandas as pd\n",
        "import numpy as np\n",
        "import matplotlib.pyplot as plt\n",
        "import seaborn as sns\n",
        "from sklearn import preprocessing\n",
        "from sklearn.linear_model import LinearRegression"
      ]
    },
    {
      "cell_type": "markdown",
      "source": [
        "Напишіть функцію гіпотези лінійної регресії у векторному вигляді:"
      ],
      "metadata": {
        "id": "74wfVfTIcdyo"
      }
    },
    {
      "cell_type": "code",
      "source": [
        "def h(X, w):\n",
        "    return X @ w"
      ],
      "metadata": {
        "id": "O62tcmhoce03"
      },
      "execution_count": 54,
      "outputs": []
    },
    {
      "cell_type": "markdown",
      "source": [
        "Створіть функцію для обчислення функції втрат у векторному вигляді:"
      ],
      "metadata": {
        "id": "3i4O47Yzc1iw"
      }
    },
    {
      "cell_type": "code",
      "source": [
        "def loss_function(X, w, y):\n",
        "    m = y.size\n",
        "    cost = (1 / (2 * m)) * np.sum(np.square(h(X, w) - y))\n",
        "    return cost"
      ],
      "metadata": {
        "id": "pjDvD5vtc3tf"
      },
      "execution_count": 55,
      "outputs": []
    },
    {
      "cell_type": "markdown",
      "source": [
        "Реалізуйте один крок градієнтного спуску:"
      ],
      "metadata": {
        "id": "rBvMS3-_eJXR"
      }
    }
  ]
}