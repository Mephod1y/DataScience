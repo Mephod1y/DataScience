{
  "nbformat": 4,
  "nbformat_minor": 0,
  "metadata": {
    "colab": {
      "provenance": [],
      "include_colab_link": true
    },
    "kernelspec": {
      "name": "python3",
      "display_name": "Python 3"
    },
    "language_info": {
      "name": "python"
    }
  },
  "cells": [
    {
      "cell_type": "markdown",
      "metadata": {
        "id": "view-in-github",
        "colab_type": "text"
      },
      "source": [
        "<a href=\"https://colab.research.google.com/github/Mephod1y/DataScience/blob/main/Hw3.ipynb\" target=\"_parent\"><img src=\"https://colab.research.google.com/assets/colab-badge.svg\" alt=\"Open In Colab\"/></a>"
      ]
    },
    {
      "cell_type": "code",
      "execution_count": 58,
      "metadata": {
        "id": "RFHtx6oZTC5C"
      },
      "outputs": [],
      "source": [
        "import pandas as pd\n",
        "import numpy as np\n",
        "import matplotlib.pyplot as plt\n",
        "import seaborn as sns\n",
        "from sklearn.preprocessing import normalize"
      ]
    },
    {
      "cell_type": "markdown",
      "source": [
        "Напишіть функцію гіпотези лінійної регресії у векторному вигляді:"
      ],
      "metadata": {
        "id": "74wfVfTIcdyo"
      }
    },
    {
      "cell_type": "code",
      "source": [
        "def h(X, w):\n",
        "    return np.dot(X, w)"
      ],
      "metadata": {
        "id": "O62tcmhoce03"
      },
      "execution_count": 59,
      "outputs": []
    },
    {
      "cell_type": "markdown",
      "source": [
        "Створіть функцію для обчислення функції втрат у векторному вигляді:"
      ],
      "metadata": {
        "id": "3i4O47Yzc1iw"
      }
    },
    {
      "cell_type": "code",
      "source": [
        "def loss_function(X, y, w):\n",
        "    return np.square(h(X, w) - y).sum() / (2 * X.size)"
      ],
      "metadata": {
        "id": "pjDvD5vtc3tf"
      },
      "execution_count": 60,
      "outputs": []
    },
    {
      "cell_type": "markdown",
      "source": [
        "Реалізуйте один крок градієнтного спуску:"
      ],
      "metadata": {
        "id": "rBvMS3-_eJXR"
      }
    },
    {
      "cell_type": "code",
      "source": [
        "def gradient_step(X, y, w, learning_rate):\n",
        "    m = len(y)\n",
        "    grad = (X.T @ (h(X, w) - y)) / m\n",
        "    w -= learning_rate * grad\n",
        "    return w"
      ],
      "metadata": {
        "id": "VFyS1R8xhzkZ"
      },
      "execution_count": 61,
      "outputs": []
    },
    {
      "cell_type": "code",
      "source": [
        "def gradient(X, y, learning_rate, num_iter, eps):\n",
        "    ones = np.ones((X.shape[0], 1))\n",
        "    X = np.hstack((ones, X))\n",
        "\n",
        "    w = np.zeros(X.shape[1])  # Initialize weights\n",
        "\n",
        "    loss = loss_function(X, y, w)\n",
        "    loss_history = [loss]\n",
        "\n",
        "    for _ in range(num_iter):\n",
        "        w = gradient_step(X, y, w, learning_rate)\n",
        "\n",
        "        loss = loss_function(X, y, w)\n",
        "        if abs(loss - loss_history[-1]) < eps:\n",
        "            loss_history.append(loss)\n",
        "            break\n",
        "\n",
        "        loss_history.append(loss)\n",
        "\n",
        "    return w, loss_history\n"
      ],
      "metadata": {
        "id": "9qKMJwelj2-Q"
      },
      "execution_count": 62,
      "outputs": []
    },
    {
      "cell_type": "markdown",
      "source": [
        "Знайдіть найкращі параметри $\\vec{w}$ для датасету прогнозуючу ціну на будинок залежно від площі, кількості ванних кімнат та кількості спалень;\n",
        "- знайдіть ці ж параметри за допомогою аналітичного рішення;\n",
        "- порівняйте отримані результати"
      ],
      "metadata": {
        "id": "ZGy8uIWtnVuL"
      }
    },
    {
      "cell_type": "code",
      "source": [
        "df = pd.read_csv(\"/content/Housing.csv\")\n",
        "df"
      ],
      "metadata": {
        "id": "ZJ4-mS3CmO5-",
        "outputId": "adba2b00-010c-4691-e669-ab1b61c754e4",
        "colab": {
          "base_uri": "https://localhost:8080/",
          "height": 423
        }
      },
      "execution_count": 63,
      "outputs": [
        {
          "output_type": "execute_result",
          "data": {
            "text/plain": [
              "        price  area  bedrooms  bathrooms  stories mainroad guestroom basement  \\\n",
              "0    13300000  7420         4          2        3      yes        no       no   \n",
              "1    12250000  8960         4          4        4      yes        no       no   \n",
              "2    12250000  9960         3          2        2      yes        no      yes   \n",
              "3    12215000  7500         4          2        2      yes        no      yes   \n",
              "4    11410000  7420         4          1        2      yes       yes      yes   \n",
              "..        ...   ...       ...        ...      ...      ...       ...      ...   \n",
              "540   1820000  3000         2          1        1      yes        no      yes   \n",
              "541   1767150  2400         3          1        1       no        no       no   \n",
              "542   1750000  3620         2          1        1      yes        no       no   \n",
              "543   1750000  2910         3          1        1       no        no       no   \n",
              "544   1750000  3850         3          1        2      yes        no       no   \n",
              "\n",
              "    hotwaterheating airconditioning  parking prefarea furnishingstatus  \n",
              "0                no             yes        2      yes        furnished  \n",
              "1                no             yes        3       no        furnished  \n",
              "2                no              no        2      yes   semi-furnished  \n",
              "3                no             yes        3      yes        furnished  \n",
              "4                no             yes        2       no        furnished  \n",
              "..              ...             ...      ...      ...              ...  \n",
              "540              no              no        2       no      unfurnished  \n",
              "541              no              no        0       no   semi-furnished  \n",
              "542              no              no        0       no      unfurnished  \n",
              "543              no              no        0       no        furnished  \n",
              "544              no              no        0       no      unfurnished  \n",
              "\n",
              "[545 rows x 13 columns]"
            ],
            "text/html": [
              "\n",
              "  <div id=\"df-6bc8b06a-3d59-48e3-b2fc-45f541140b5f\" class=\"colab-df-container\">\n",
              "    <div>\n",
              "<style scoped>\n",
              "    .dataframe tbody tr th:only-of-type {\n",
              "        vertical-align: middle;\n",
              "    }\n",
              "\n",
              "    .dataframe tbody tr th {\n",
              "        vertical-align: top;\n",
              "    }\n",
              "\n",
              "    .dataframe thead th {\n",
              "        text-align: right;\n",
              "    }\n",
              "</style>\n",
              "<table border=\"1\" class=\"dataframe\">\n",
              "  <thead>\n",
              "    <tr style=\"text-align: right;\">\n",
              "      <th></th>\n",
              "      <th>price</th>\n",
              "      <th>area</th>\n",
              "      <th>bedrooms</th>\n",
              "      <th>bathrooms</th>\n",
              "      <th>stories</th>\n",
              "      <th>mainroad</th>\n",
              "      <th>guestroom</th>\n",
              "      <th>basement</th>\n",
              "      <th>hotwaterheating</th>\n",
              "      <th>airconditioning</th>\n",
              "      <th>parking</th>\n",
              "      <th>prefarea</th>\n",
              "      <th>furnishingstatus</th>\n",
              "    </tr>\n",
              "  </thead>\n",
              "  <tbody>\n",
              "    <tr>\n",
              "      <th>0</th>\n",
              "      <td>13300000</td>\n",
              "      <td>7420</td>\n",
              "      <td>4</td>\n",
              "      <td>2</td>\n",
              "      <td>3</td>\n",
              "      <td>yes</td>\n",
              "      <td>no</td>\n",
              "      <td>no</td>\n",
              "      <td>no</td>\n",
              "      <td>yes</td>\n",
              "      <td>2</td>\n",
              "      <td>yes</td>\n",
              "      <td>furnished</td>\n",
              "    </tr>\n",
              "    <tr>\n",
              "      <th>1</th>\n",
              "      <td>12250000</td>\n",
              "      <td>8960</td>\n",
              "      <td>4</td>\n",
              "      <td>4</td>\n",
              "      <td>4</td>\n",
              "      <td>yes</td>\n",
              "      <td>no</td>\n",
              "      <td>no</td>\n",
              "      <td>no</td>\n",
              "      <td>yes</td>\n",
              "      <td>3</td>\n",
              "      <td>no</td>\n",
              "      <td>furnished</td>\n",
              "    </tr>\n",
              "    <tr>\n",
              "      <th>2</th>\n",
              "      <td>12250000</td>\n",
              "      <td>9960</td>\n",
              "      <td>3</td>\n",
              "      <td>2</td>\n",
              "      <td>2</td>\n",
              "      <td>yes</td>\n",
              "      <td>no</td>\n",
              "      <td>yes</td>\n",
              "      <td>no</td>\n",
              "      <td>no</td>\n",
              "      <td>2</td>\n",
              "      <td>yes</td>\n",
              "      <td>semi-furnished</td>\n",
              "    </tr>\n",
              "    <tr>\n",
              "      <th>3</th>\n",
              "      <td>12215000</td>\n",
              "      <td>7500</td>\n",
              "      <td>4</td>\n",
              "      <td>2</td>\n",
              "      <td>2</td>\n",
              "      <td>yes</td>\n",
              "      <td>no</td>\n",
              "      <td>yes</td>\n",
              "      <td>no</td>\n",
              "      <td>yes</td>\n",
              "      <td>3</td>\n",
              "      <td>yes</td>\n",
              "      <td>furnished</td>\n",
              "    </tr>\n",
              "    <tr>\n",
              "      <th>4</th>\n",
              "      <td>11410000</td>\n",
              "      <td>7420</td>\n",
              "      <td>4</td>\n",
              "      <td>1</td>\n",
              "      <td>2</td>\n",
              "      <td>yes</td>\n",
              "      <td>yes</td>\n",
              "      <td>yes</td>\n",
              "      <td>no</td>\n",
              "      <td>yes</td>\n",
              "      <td>2</td>\n",
              "      <td>no</td>\n",
              "      <td>furnished</td>\n",
              "    </tr>\n",
              "    <tr>\n",
              "      <th>...</th>\n",
              "      <td>...</td>\n",
              "      <td>...</td>\n",
              "      <td>...</td>\n",
              "      <td>...</td>\n",
              "      <td>...</td>\n",
              "      <td>...</td>\n",
              "      <td>...</td>\n",
              "      <td>...</td>\n",
              "      <td>...</td>\n",
              "      <td>...</td>\n",
              "      <td>...</td>\n",
              "      <td>...</td>\n",
              "      <td>...</td>\n",
              "    </tr>\n",
              "    <tr>\n",
              "      <th>540</th>\n",
              "      <td>1820000</td>\n",
              "      <td>3000</td>\n",
              "      <td>2</td>\n",
              "      <td>1</td>\n",
              "      <td>1</td>\n",
              "      <td>yes</td>\n",
              "      <td>no</td>\n",
              "      <td>yes</td>\n",
              "      <td>no</td>\n",
              "      <td>no</td>\n",
              "      <td>2</td>\n",
              "      <td>no</td>\n",
              "      <td>unfurnished</td>\n",
              "    </tr>\n",
              "    <tr>\n",
              "      <th>541</th>\n",
              "      <td>1767150</td>\n",
              "      <td>2400</td>\n",
              "      <td>3</td>\n",
              "      <td>1</td>\n",
              "      <td>1</td>\n",
              "      <td>no</td>\n",
              "      <td>no</td>\n",
              "      <td>no</td>\n",
              "      <td>no</td>\n",
              "      <td>no</td>\n",
              "      <td>0</td>\n",
              "      <td>no</td>\n",
              "      <td>semi-furnished</td>\n",
              "    </tr>\n",
              "    <tr>\n",
              "      <th>542</th>\n",
              "      <td>1750000</td>\n",
              "      <td>3620</td>\n",
              "      <td>2</td>\n",
              "      <td>1</td>\n",
              "      <td>1</td>\n",
              "      <td>yes</td>\n",
              "      <td>no</td>\n",
              "      <td>no</td>\n",
              "      <td>no</td>\n",
              "      <td>no</td>\n",
              "      <td>0</td>\n",
              "      <td>no</td>\n",
              "      <td>unfurnished</td>\n",
              "    </tr>\n",
              "    <tr>\n",
              "      <th>543</th>\n",
              "      <td>1750000</td>\n",
              "      <td>2910</td>\n",
              "      <td>3</td>\n",
              "      <td>1</td>\n",
              "      <td>1</td>\n",
              "      <td>no</td>\n",
              "      <td>no</td>\n",
              "      <td>no</td>\n",
              "      <td>no</td>\n",
              "      <td>no</td>\n",
              "      <td>0</td>\n",
              "      <td>no</td>\n",
              "      <td>furnished</td>\n",
              "    </tr>\n",
              "    <tr>\n",
              "      <th>544</th>\n",
              "      <td>1750000</td>\n",
              "      <td>3850</td>\n",
              "      <td>3</td>\n",
              "      <td>1</td>\n",
              "      <td>2</td>\n",
              "      <td>yes</td>\n",
              "      <td>no</td>\n",
              "      <td>no</td>\n",
              "      <td>no</td>\n",
              "      <td>no</td>\n",
              "      <td>0</td>\n",
              "      <td>no</td>\n",
              "      <td>unfurnished</td>\n",
              "    </tr>\n",
              "  </tbody>\n",
              "</table>\n",
              "<p>545 rows × 13 columns</p>\n",
              "</div>\n",
              "    <div class=\"colab-df-buttons\">\n",
              "\n",
              "  <div class=\"colab-df-container\">\n",
              "    <button class=\"colab-df-convert\" onclick=\"convertToInteractive('df-6bc8b06a-3d59-48e3-b2fc-45f541140b5f')\"\n",
              "            title=\"Convert this dataframe to an interactive table.\"\n",
              "            style=\"display:none;\">\n",
              "\n",
              "  <svg xmlns=\"http://www.w3.org/2000/svg\" height=\"24px\" viewBox=\"0 -960 960 960\">\n",
              "    <path d=\"M120-120v-720h720v720H120Zm60-500h600v-160H180v160Zm220 220h160v-160H400v160Zm0 220h160v-160H400v160ZM180-400h160v-160H180v160Zm440 0h160v-160H620v160ZM180-180h160v-160H180v160Zm440 0h160v-160H620v160Z\"/>\n",
              "  </svg>\n",
              "    </button>\n",
              "\n",
              "  <style>\n",
              "    .colab-df-container {\n",
              "      display:flex;\n",
              "      gap: 12px;\n",
              "    }\n",
              "\n",
              "    .colab-df-convert {\n",
              "      background-color: #E8F0FE;\n",
              "      border: none;\n",
              "      border-radius: 50%;\n",
              "      cursor: pointer;\n",
              "      display: none;\n",
              "      fill: #1967D2;\n",
              "      height: 32px;\n",
              "      padding: 0 0 0 0;\n",
              "      width: 32px;\n",
              "    }\n",
              "\n",
              "    .colab-df-convert:hover {\n",
              "      background-color: #E2EBFA;\n",
              "      box-shadow: 0px 1px 2px rgba(60, 64, 67, 0.3), 0px 1px 3px 1px rgba(60, 64, 67, 0.15);\n",
              "      fill: #174EA6;\n",
              "    }\n",
              "\n",
              "    .colab-df-buttons div {\n",
              "      margin-bottom: 4px;\n",
              "    }\n",
              "\n",
              "    [theme=dark] .colab-df-convert {\n",
              "      background-color: #3B4455;\n",
              "      fill: #D2E3FC;\n",
              "    }\n",
              "\n",
              "    [theme=dark] .colab-df-convert:hover {\n",
              "      background-color: #434B5C;\n",
              "      box-shadow: 0px 1px 3px 1px rgba(0, 0, 0, 0.15);\n",
              "      filter: drop-shadow(0px 1px 2px rgba(0, 0, 0, 0.3));\n",
              "      fill: #FFFFFF;\n",
              "    }\n",
              "  </style>\n",
              "\n",
              "    <script>\n",
              "      const buttonEl =\n",
              "        document.querySelector('#df-6bc8b06a-3d59-48e3-b2fc-45f541140b5f button.colab-df-convert');\n",
              "      buttonEl.style.display =\n",
              "        google.colab.kernel.accessAllowed ? 'block' : 'none';\n",
              "\n",
              "      async function convertToInteractive(key) {\n",
              "        const element = document.querySelector('#df-6bc8b06a-3d59-48e3-b2fc-45f541140b5f');\n",
              "        const dataTable =\n",
              "          await google.colab.kernel.invokeFunction('convertToInteractive',\n",
              "                                                    [key], {});\n",
              "        if (!dataTable) return;\n",
              "\n",
              "        const docLinkHtml = 'Like what you see? Visit the ' +\n",
              "          '<a target=\"_blank\" href=https://colab.research.google.com/notebooks/data_table.ipynb>data table notebook</a>'\n",
              "          + ' to learn more about interactive tables.';\n",
              "        element.innerHTML = '';\n",
              "        dataTable['output_type'] = 'display_data';\n",
              "        await google.colab.output.renderOutput(dataTable, element);\n",
              "        const docLink = document.createElement('div');\n",
              "        docLink.innerHTML = docLinkHtml;\n",
              "        element.appendChild(docLink);\n",
              "      }\n",
              "    </script>\n",
              "  </div>\n",
              "\n",
              "\n",
              "<div id=\"df-91e1b142-3b5a-4ada-9ae0-e12c65f8817f\">\n",
              "  <button class=\"colab-df-quickchart\" onclick=\"quickchart('df-91e1b142-3b5a-4ada-9ae0-e12c65f8817f')\"\n",
              "            title=\"Suggest charts.\"\n",
              "            style=\"display:none;\">\n",
              "\n",
              "<svg xmlns=\"http://www.w3.org/2000/svg\" height=\"24px\"viewBox=\"0 0 24 24\"\n",
              "     width=\"24px\">\n",
              "    <g>\n",
              "        <path d=\"M19 3H5c-1.1 0-2 .9-2 2v14c0 1.1.9 2 2 2h14c1.1 0 2-.9 2-2V5c0-1.1-.9-2-2-2zM9 17H7v-7h2v7zm4 0h-2V7h2v10zm4 0h-2v-4h2v4z\"/>\n",
              "    </g>\n",
              "</svg>\n",
              "  </button>\n",
              "\n",
              "<style>\n",
              "  .colab-df-quickchart {\n",
              "    background-color: #E8F0FE;\n",
              "    border: none;\n",
              "    border-radius: 50%;\n",
              "    cursor: pointer;\n",
              "    display: none;\n",
              "    fill: #1967D2;\n",
              "    height: 32px;\n",
              "    padding: 0 0 0 0;\n",
              "    width: 32px;\n",
              "  }\n",
              "\n",
              "  .colab-df-quickchart:hover {\n",
              "    background-color: #E2EBFA;\n",
              "    box-shadow: 0px 1px 2px rgba(60, 64, 67, 0.3), 0px 1px 3px 1px rgba(60, 64, 67, 0.15);\n",
              "    fill: #174EA6;\n",
              "  }\n",
              "\n",
              "  [theme=dark] .colab-df-quickchart {\n",
              "    background-color: #3B4455;\n",
              "    fill: #D2E3FC;\n",
              "  }\n",
              "\n",
              "  [theme=dark] .colab-df-quickchart:hover {\n",
              "    background-color: #434B5C;\n",
              "    box-shadow: 0px 1px 3px 1px rgba(0, 0, 0, 0.15);\n",
              "    filter: drop-shadow(0px 1px 2px rgba(0, 0, 0, 0.3));\n",
              "    fill: #FFFFFF;\n",
              "  }\n",
              "</style>\n",
              "\n",
              "  <script>\n",
              "    async function quickchart(key) {\n",
              "      const charts = await google.colab.kernel.invokeFunction(\n",
              "          'suggestCharts', [key], {});\n",
              "    }\n",
              "    (() => {\n",
              "      let quickchartButtonEl =\n",
              "        document.querySelector('#df-91e1b142-3b5a-4ada-9ae0-e12c65f8817f button');\n",
              "      quickchartButtonEl.style.display =\n",
              "        google.colab.kernel.accessAllowed ? 'block' : 'none';\n",
              "    })();\n",
              "  </script>\n",
              "</div>\n",
              "    </div>\n",
              "  </div>\n"
            ]
          },
          "metadata": {},
          "execution_count": 63
        }
      ]
    },
    {
      "cell_type": "code",
      "source": [
        "norm = df.copy()\n",
        "columns = ['price', 'area', 'bedrooms', 'bathrooms']\n",
        "for column in columns:\n",
        "  norm[column] = normalize(df[column])"
      ],
      "metadata": {
        "id": "qveWLruHm2IH",
        "outputId": "2aa3c074-ca75-488e-99fc-029cae0fba82",
        "colab": {
          "base_uri": "https://localhost:8080/",
          "height": 1000
        }
      },
      "execution_count": 68,
      "outputs": [
        {
          "output_type": "error",
          "ename": "ValueError",
          "evalue": "ignored",
          "traceback": [
            "\u001b[0;31m---------------------------------------------------------------------------\u001b[0m",
            "\u001b[0;31mValueError\u001b[0m                                Traceback (most recent call last)",
            "\u001b[0;32m<ipython-input-68-567680354fca>\u001b[0m in \u001b[0;36m<cell line: 3>\u001b[0;34m()\u001b[0m\n\u001b[1;32m      2\u001b[0m \u001b[0mcolumns\u001b[0m \u001b[0;34m=\u001b[0m \u001b[0;34m[\u001b[0m\u001b[0;34m'price'\u001b[0m\u001b[0;34m,\u001b[0m \u001b[0;34m'area'\u001b[0m\u001b[0;34m,\u001b[0m \u001b[0;34m'bedrooms'\u001b[0m\u001b[0;34m,\u001b[0m \u001b[0;34m'bathrooms'\u001b[0m\u001b[0;34m]\u001b[0m\u001b[0;34m\u001b[0m\u001b[0;34m\u001b[0m\u001b[0m\n\u001b[1;32m      3\u001b[0m \u001b[0;32mfor\u001b[0m \u001b[0mcolumn\u001b[0m \u001b[0;32min\u001b[0m \u001b[0mcolumns\u001b[0m\u001b[0;34m:\u001b[0m\u001b[0;34m\u001b[0m\u001b[0;34m\u001b[0m\u001b[0m\n\u001b[0;32m----> 4\u001b[0;31m   \u001b[0mnorm\u001b[0m\u001b[0;34m[\u001b[0m\u001b[0mcolumn\u001b[0m\u001b[0;34m]\u001b[0m \u001b[0;34m=\u001b[0m \u001b[0mnormalize\u001b[0m\u001b[0;34m(\u001b[0m\u001b[0mdf\u001b[0m\u001b[0;34m[\u001b[0m\u001b[0mcolumn\u001b[0m\u001b[0;34m]\u001b[0m\u001b[0;34m)\u001b[0m\u001b[0;34m\u001b[0m\u001b[0;34m\u001b[0m\u001b[0m\n\u001b[0m",
            "\u001b[0;32m/usr/local/lib/python3.10/dist-packages/sklearn/preprocessing/_data.py\u001b[0m in \u001b[0;36mnormalize\u001b[0;34m(X, norm, axis, copy, return_norm)\u001b[0m\n\u001b[1;32m   1815\u001b[0m         \u001b[0;32mraise\u001b[0m \u001b[0mValueError\u001b[0m\u001b[0;34m(\u001b[0m\u001b[0;34m\"'%d' is not a supported axis\"\u001b[0m \u001b[0;34m%\u001b[0m \u001b[0maxis\u001b[0m\u001b[0;34m)\u001b[0m\u001b[0;34m\u001b[0m\u001b[0;34m\u001b[0m\u001b[0m\n\u001b[1;32m   1816\u001b[0m \u001b[0;34m\u001b[0m\u001b[0m\n\u001b[0;32m-> 1817\u001b[0;31m     X = check_array(\n\u001b[0m\u001b[1;32m   1818\u001b[0m         \u001b[0mX\u001b[0m\u001b[0;34m,\u001b[0m\u001b[0;34m\u001b[0m\u001b[0;34m\u001b[0m\u001b[0m\n\u001b[1;32m   1819\u001b[0m         \u001b[0maccept_sparse\u001b[0m\u001b[0;34m=\u001b[0m\u001b[0msparse_format\u001b[0m\u001b[0;34m,\u001b[0m\u001b[0;34m\u001b[0m\u001b[0;34m\u001b[0m\u001b[0m\n",
            "\u001b[0;32m/usr/local/lib/python3.10/dist-packages/sklearn/utils/validation.py\u001b[0m in \u001b[0;36mcheck_array\u001b[0;34m(array, accept_sparse, accept_large_sparse, dtype, order, copy, force_all_finite, ensure_2d, allow_nd, ensure_min_samples, ensure_min_features, estimator, input_name)\u001b[0m\n\u001b[1;32m    900\u001b[0m             \u001b[0;31m# If input is 1D raise error\u001b[0m\u001b[0;34m\u001b[0m\u001b[0;34m\u001b[0m\u001b[0m\n\u001b[1;32m    901\u001b[0m             \u001b[0;32mif\u001b[0m \u001b[0marray\u001b[0m\u001b[0;34m.\u001b[0m\u001b[0mndim\u001b[0m \u001b[0;34m==\u001b[0m \u001b[0;36m1\u001b[0m\u001b[0;34m:\u001b[0m\u001b[0;34m\u001b[0m\u001b[0;34m\u001b[0m\u001b[0m\n\u001b[0;32m--> 902\u001b[0;31m                 raise ValueError(\n\u001b[0m\u001b[1;32m    903\u001b[0m                     \u001b[0;34m\"Expected 2D array, got 1D array instead:\\narray={}.\\n\"\u001b[0m\u001b[0;34m\u001b[0m\u001b[0;34m\u001b[0m\u001b[0m\n\u001b[1;32m    904\u001b[0m                     \u001b[0;34m\"Reshape your data either using array.reshape(-1, 1) if \"\u001b[0m\u001b[0;34m\u001b[0m\u001b[0;34m\u001b[0m\u001b[0m\n",
            "\u001b[0;31mValueError\u001b[0m: Expected 2D array, got 1D array instead:\narray=[13300000. 12250000. 12250000. 12215000. 11410000. 10850000. 10150000.\n 10150000.  9870000.  9800000.  9800000.  9681000.  9310000.  9240000.\n  9240000.  9100000.  9100000.  8960000.  8890000.  8855000.  8750000.\n  8680000.  8645000.  8645000.  8575000.  8540000.  8463000.  8400000.\n  8400000.  8400000.  8400000.  8400000.  8295000.  8190000.  8120000.\n  8080940.  8043000.  7980000.  7962500.  7910000.  7875000.  7840000.\n  7700000.  7700000.  7560000.  7560000.  7525000.  7490000.  7455000.\n  7420000.  7420000.  7420000.  7350000.  7350000.  7350000.  7350000.\n  7343000.  7245000.  7210000.  7210000.  7140000.  7070000.  7070000.\n  7035000.  7000000.  6930000.  6930000.  6895000.  6860000.  6790000.\n  6790000.  6755000.  6720000.  6685000.  6650000.  6650000.  6650000.\n  6650000.  6650000.  6650000.  6629000.  6615000.  6615000.  6580000.\n  6510000.  6510000.  6510000.  6475000.  6475000.  6440000.  6440000.\n  6419000.  6405000.  6300000.  6300000.  6300000.  6300000.  6300000.\n  6293000.  6265000.  6230000.  6230000.  6195000.  6195000.  6195000.\n  6160000.  6160000.  6125000.  6107500.  6090000.  6090000.  6090000.\n  6083000.  6083000.  6020000.  6020000.  6020000.  5950000.  5950000.\n  5950000.  5950000.  5950000.  5950000.  5950000.  5950000.  5943000.\n  5880000.  5880000.  5873000.  5873000.  5866000.  5810000.  5810000.\n  5810000.  5803000.  5775000.  5740000.  5740000.  5740000.  5740000.\n  5740000.  5652500.  5600000.  5600000.  5600000.  5600000.  5600000.\n  5600000.  5600000.  5600000.  5600000.  5565000.  5565000.  5530000.\n  5530000.  5530000.  5523000.  5495000.  5495000.  5460000.  5460000.\n  5460000.  5460000.  5425000.  5390000.  5383000.  5320000.  5285000.\n  5250000.  5250000.  5250000.  5250000.  5250000.  5250000.  5250000.\n  5250000.  5250000.  5243000.  5229000.  5215000.  5215000.  5215000.\n  5145000.  5145000.  5110000.  5110000.  5110000.  5110000.  5075000.\n  5040000.  5040000.  5040000.  5040000.  5033000.  5005000.  4970000.\n  4970000.  4956000.  4935000.  4907000.  4900000.  4900000.  4900000.\n  4900000.  4900000.  4900000.  4900000.  4900000.  4900000.  4900000.\n  4900000.  4900000.  4893000.  4893000.  4865000.  4830000.  4830000.\n  4830000.  4830000.  4795000.  4795000.  4767000.  4760000.  4760000.\n  4760000.  4753000.  4690000.  4690000.  4690000.  4690000.  4690000.\n  4690000.  4655000.  4620000.  4620000.  4620000.  4620000.  4620000.\n  4613000.  4585000.  4585000.  4550000.  4550000.  4550000.  4550000.\n  4550000.  4550000.  4550000.  4543000.  4543000.  4515000.  4515000.\n  4515000.  4515000.  4480000.  4480000.  4480000.  4480000.  4480000.\n  4473000.  4473000.  4473000.  4445000.  4410000.  4410000.  4403000.\n  4403000.  4403000.  4382000.  4375000.  4340000.  4340000.  4340000.\n  4340000.  4340000.  4319000.  4305000.  4305000.  4277000.  4270000.\n  4270000.  4270000.  4270000.  4270000.  4270000.  4235000.  4235000.\n  4200000.  4200000.  4200000.  4200000.  4200000.  4200000.  4200000.\n  4200000.  4200000.  4200000.  4200000.  4200000.  4200000.  4200000.\n  4200000.  4200000.  4200000.  4193000.  4193000.  4165000.  4165000.\n  4165000.  4130000.  4130000.  4123000.  4098500.  4095000.  4095000.\n  4095000.  4060000.  4060000.  4060000.  4060000.  4060000.  4025000.\n  4025000.  4025000.  4007500.  4007500.  3990000.  3990000.  3990000.\n  3990000.  3990000.  3920000.  3920000.  3920000.  3920000.  3920000.\n  3920000.  3920000.  3885000.  3885000.  3850000.  3850000.  3850000.\n  3850000.  3850000.  3850000.  3850000.  3836000.  3815000.  3780000.\n  3780000.  3780000.  3780000.  3780000.  3780000.  3773000.  3773000.\n  3773000.  3745000.  3710000.  3710000.  3710000.  3710000.  3710000.\n  3703000.  3703000.  3675000.  3675000.  3675000.  3675000.  3640000.\n  3640000.  3640000.  3640000.  3640000.  3640000.  3640000.  3640000.\n  3640000.  3633000.  3605000.  3605000.  3570000.  3570000.  3570000.\n  3570000.  3535000.  3500000.  3500000.  3500000.  3500000.  3500000.\n  3500000.  3500000.  3500000.  3500000.  3500000.  3500000.  3500000.\n  3500000.  3500000.  3500000.  3500000.  3500000.  3493000.  3465000.\n  3465000.  3465000.  3430000.  3430000.  3430000.  3430000.  3430000.\n  3430000.  3423000.  3395000.  3395000.  3395000.  3360000.  3360000.\n  3360000.  3360000.  3360000.  3360000.  3360000.  3360000.  3353000.\n  3332000.  3325000.  3325000.  3290000.  3290000.  3290000.  3290000.\n  3290000.  3290000.  3290000.  3290000.  3255000.  3255000.  3234000.\n  3220000.  3220000.  3220000.  3220000.  3150000.  3150000.  3150000.\n  3150000.  3150000.  3150000.  3150000.  3150000.  3150000.  3143000.\n  3129000.  3118850.  3115000.  3115000.  3115000.  3087000.  3080000.\n  3080000.  3080000.  3080000.  3045000.  3010000.  3010000.  3010000.\n  3010000.  3010000.  3010000.  3010000.  3003000.  2975000.  2961000.\n  2940000.  2940000.  2940000.  2940000.  2940000.  2940000.  2940000.\n  2940000.  2870000.  2870000.  2870000.  2870000.  2852500.  2835000.\n  2835000.  2835000.  2800000.  2800000.  2730000.  2730000.  2695000.\n  2660000.  2660000.  2660000.  2660000.  2660000.  2660000.  2660000.\n  2653000.  2653000.  2604000.  2590000.  2590000.  2590000.  2520000.\n  2520000.  2520000.  2485000.  2485000.  2450000.  2450000.  2450000.\n  2450000.  2450000.  2450000.  2408000.  2380000.  2380000.  2380000.\n  2345000.  2310000.  2275000.  2275000.  2275000.  2240000.  2233000.\n  2135000.  2100000.  2100000.  2100000.  1960000.  1890000.  1890000.\n  1855000.  1820000.  1767150.  1750000.  1750000.  1750000.].\nReshape your data either using array.reshape(-1, 1) if your data has a single feature or array.reshape(1, -1) if it contains a single sample."
          ]
        }
      ]
    },
    {
      "cell_type": "code",
      "source": [
        "X = norm[['area', 'bedrooms', 'bathrooms']].values\n",
        "y = norm['price'].values\n",
        "learning_rate = 0.001\n",
        "num_iter = 100000\n",
        "eps = 1e-12\n",
        "w, loss_history = gradient(X, y, learning_rate, num_iter, eps)\n",
        "print(f'Найкращі параметри w: {w}, втрати: {loss_history[-1]}, ітерацій: {len(loss_history)-1}')"
      ],
      "metadata": {
        "id": "HWjlRgu5qNvR",
        "outputId": "8ae55374-61ca-47e8-e12d-6970c419525b",
        "colab": {
          "base_uri": "https://localhost:8080/"
        }
      },
      "execution_count": 69,
      "outputs": [
        {
          "output_type": "stream",
          "name": "stderr",
          "text": [
            "<ipython-input-60-a0e0439d06e7>:2: RuntimeWarning: overflow encountered in square\n",
            "  return np.square(h(X, w) - y).sum() / (2 * X.size)\n",
            "<ipython-input-62-32c2b6e87b68>:14: RuntimeWarning: invalid value encountered in double_scalars\n",
            "  if abs(loss - loss_history[-1]) < eps:\n",
            "<ipython-input-61-75682071d92b>:3: RuntimeWarning: overflow encountered in matmul\n",
            "  grad = (X.T @ (h(X, w) - y)) / m\n",
            "<ipython-input-61-75682071d92b>:4: RuntimeWarning: invalid value encountered in subtract\n",
            "  w -= learning_rate * grad\n"
          ]
        },
        {
          "output_type": "stream",
          "name": "stdout",
          "text": [
            "Найкращі параметри w: [nan nan nan nan], втрати: nan, ітерацій: 100000\n"
          ]
        }
      ]
    },
    {
      "cell_type": "code",
      "source": [
        "X = norm[['area', 'bedrooms', 'bathrooms']].values\n",
        "y = norm['price'].values\n",
        "\n",
        "ones = np.ones((X.shape[0], 1))\n",
        "X = np.hstack((ones, X))\n",
        "\n",
        "w_analytical = np.linalg.inv(X.T @ X) @ X.T @ y\n",
        "print('Optimal w (analytical solution):', w_analytical)"
      ],
      "metadata": {
        "id": "AVp8ZkNV3ebW",
        "outputId": "77ba5742-bab6-4f8d-eb99-91fa08a9180d",
        "colab": {
          "base_uri": "https://localhost:8080/"
        }
      },
      "execution_count": 70,
      "outputs": [
        {
          "output_type": "stream",
          "name": "stdout",
          "text": [
            "Optimal w (analytical solution): [-1.73171608e+05  3.78762754e+02  4.06820034e+05  1.38604950e+06]\n"
          ]
        }
      ]
    }
  ]
}